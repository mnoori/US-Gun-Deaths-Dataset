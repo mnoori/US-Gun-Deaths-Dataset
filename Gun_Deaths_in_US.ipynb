{
 "cells": [
  {
   "cell_type": "code",
   "execution_count": 23,
   "metadata": {
    "collapsed": false
   },
   "outputs": [
    {
     "name": "stdout",
     "output_type": "stream",
     "text": [
      "[['', 'year', 'month', 'intent', 'police', 'sex', 'age', 'race', 'hispanic', 'place', 'education'], ['1', '2012', '01', 'Suicide', '0', 'M', '34', 'Asian/Pacific Islander', '100', 'Home', '4'], ['2', '2012', '01', 'Suicide', '0', 'F', '21', 'White', '100', 'Street', '3']]\n"
     ]
    }
   ],
   "source": [
    "import csv\n",
    "f=open('guns.csv','r')\n",
    "data=list(csv.reader(f)) #reading the file and converting to a list\n",
    "print(data[:3])"
   ]
  },
  {
   "cell_type": "code",
   "execution_count": 24,
   "metadata": {
    "collapsed": false
   },
   "outputs": [
    {
     "name": "stdout",
     "output_type": "stream",
     "text": [
      "['', 'year', 'month', 'intent', 'police', 'sex', 'age', 'race', 'hispanic', 'place', 'education']\n",
      "[['1', '2012', '01', 'Suicide', '0', 'M', '34', 'Asian/Pacific Islander', '100', 'Home', '4'], ['2', '2012', '01', 'Suicide', '0', 'F', '21', 'White', '100', 'Street', '3'], ['3', '2012', '01', 'Suicide', '0', 'M', '60', 'White', '100', 'Other specified', '4']]\n"
     ]
    }
   ],
   "source": [
    "#removing the header\n",
    "headers=data[0]\n",
    "data=data[1:] \n",
    "print(headers)\n",
    "print(data[:3])"
   ]
  },
  {
   "cell_type": "code",
   "execution_count": 25,
   "metadata": {
    "collapsed": false
   },
   "outputs": [
    {
     "name": "stdout",
     "output_type": "stream",
     "text": [
      "{'2014': 33599, '2012': 33563, '2013': 33636}\n"
     ]
    }
   ],
   "source": [
    "#We count how many deaths happen in each year\n",
    "years=[row[1] for row in data]\n",
    "year_counts={}\n",
    "for item in years:\n",
    "    if item in year_counts:\n",
    "        year_counts[item]=year_counts[item]+1\n",
    "    else:\n",
    "        year_counts[item]=1\n",
    "\n",
    "print(year_counts)"
   ]
  },
  {
   "cell_type": "code",
   "execution_count": 22,
   "metadata": {
    "collapsed": false
   },
   "outputs": [],
   "source": [
    "#we convert the year and month into a datetime object\n",
    "#we then capture how many deaths happen in each month of each year\n",
    "import datetime\n",
    "dates=[datetime.datetime(year=int(row[1]),month=int(row[2]),day=1) for row in data]\n",
    "#print(dates[:5])"
   ]
  },
  {
   "cell_type": "code",
   "execution_count": 26,
   "metadata": {
    "collapsed": false
   },
   "outputs": [],
   "source": [
    "#here we count deaths in each month\n",
    "date_counts={}\n",
    "for item in dates:\n",
    "    if item in date_counts:\n",
    "        date_counts[item]=date_counts[item]+1\n",
    "    else:\n",
    "        date_counts[item]=1\n",
    "\n",
    "#print(date_counts)"
   ]
  },
  {
   "cell_type": "code",
   "execution_count": 31,
   "metadata": {
    "collapsed": false
   },
   "outputs": [
    {
     "name": "stdout",
     "output_type": "stream",
     "text": [
      "{'M': 86349, 'F': 14449}\n",
      "{'White': 66237, 'Hispanic': 9022, 'Black': 23296, 'Asian/Pacific Islander': 1326, 'Native American/Native Alaskan': 917}\n"
     ]
    }
   ],
   "source": [
    "sex_column=[row[5] for row in data]\n",
    "# print(set(sex_column)) check weather there is any missing data\n",
    "sex_counts={}\n",
    "for item in sex_column:\n",
    "    if item in sex_counts:\n",
    "        sex_counts[item]=sex_counts[item]+1\n",
    "    else:\n",
    "        sex_counts[item]=1\n",
    "\n",
    "race_column=[row[7] for row in data]\n",
    "race_counts={}\n",
    "for item in race_column:\n",
    "    if item in race_counts:\n",
    "        race_counts[item]=race_counts[item]+1\n",
    "    else:\n",
    "        race_counts[item]=1\n",
    "\n",
    "print(sex_counts)\n",
    "print(race_counts)"
   ]
  },
  {
   "cell_type": "markdown",
   "metadata": {},
   "source": [
    "## Gun Deaths in the US\n",
    "so far, we've read and converted the data into a list. Then counted how many deaths happen in each year and each month, and then explored how gun deaths vary by gender and race.\n",
    "Next, we'd like to know the gun deaths relative to the population of each race. For this, we will use census data."
   ]
  },
  {
   "cell_type": "code",
   "execution_count": 37,
   "metadata": {
    "collapsed": false
   },
   "outputs": [
    {
     "name": "stdout",
     "output_type": "stream",
     "text": [
      "[['Id', 'Year', 'Id', 'Sex', 'Id', 'Hispanic Origin', 'Id', 'Id2', 'Geography', 'Total', 'Race Alone - White', 'Race Alone - Hispanic', 'Race Alone - Black or African American', 'Race Alone - American Indian and Alaska Native', 'Race Alone - Asian', 'Race Alone - Native Hawaiian and Other Pacific Islander', 'Two or More Races'], ['cen42010', 'April 1, 2010 Census', 'totsex', 'Both Sexes', 'tothisp', 'Total', '0100000US', '', 'United States', '308745538', '197318956', '44618105', '40250635', '3739506', '15159516', '674625', '6984195']]\n"
     ]
    }
   ],
   "source": [
    "census=list(csv.reader(open('census.csv','r')))\n",
    "print(census)"
   ]
  },
  {
   "cell_type": "code",
   "execution_count": 53,
   "metadata": {
    "collapsed": false
   },
   "outputs": [
    {
     "name": "stdout",
     "output_type": "stream",
     "text": [
      "{'White': 33.56849303419181, 'Hispanic': 20.220491210910907, 'Black': 57.8773477735196, 'Asian/Pacific Islander': 8.374309664161762, 'Native American/Native Alaskan': 24.521955573811088}\n"
     ]
    }
   ],
   "source": [
    "mapping={\n",
    "    'Asian/Pacific Islander':(15159516+674625),\n",
    "    'Black': 40250635,\n",
    "    'Native American/Native Alaskan':3739506,\n",
    "    'Hispanic':44618105,\n",
    "    'White':197318956\n",
    "    }\n",
    "\n",
    "race_per_hundredk={}\n",
    "for k,v in race_counts.items():\n",
    "    race_per_hundredk[k]=v/mapping[k]*100000\n",
    "    #deaths per capita are too small. We express them in 100k population.\n",
    "\n",
    "print(race_per_hundredk)\n",
    "    \n"
   ]
  },
  {
   "cell_type": "code",
   "execution_count": 57,
   "metadata": {
    "collapsed": false
   },
   "outputs": [
    {
     "name": "stdout",
     "output_type": "stream",
     "text": [
      "{'White': 9147, 'Hispanic': 5634, 'Black': 19510, 'Asian/Pacific Islander': 559, 'Native American/Native Alaskan': 326}\n",
      "{'White': 4.6356417981453335, 'Hispanic': 12.627161104219914, 'Black': 48.471284987180944, 'Asian/Pacific Islander': 3.530346230970155, 'Native American/Native Alaskan': 8.717729026240365}\n"
     ]
    }
   ],
   "source": [
    "#Now we'd like to extract the homicide deaths, in order to only get the murder rates\n",
    "intents=[row[3] for row in data]\n",
    "races=[row[7] for row in data]\n",
    "homicide_race_counts={}\n",
    "for i,race in enumerate(races):\n",
    "    intent=intents[i]\n",
    "    if intent=='Homicide':\n",
    "        if race in homicide_race_counts:\n",
    "            homicide_race_counts[race]=homicide_race_counts[race]+1\n",
    "        else:\n",
    "            homicide_race_counts[race]=1\n",
    "\n",
    "print(homicide_race_counts)\n",
    "\n",
    "#now we use the mapping dictionary to estimate homicide per 100k\n",
    "homicide_per_hundredk={}\n",
    "for k,v in homicide_race_counts.items():\n",
    "    homicide_per_hundredk[k]=v/mapping[k]*100000\n",
    "    #deaths per capita are too small. We express them in 100k population.\n",
    "\n",
    "print(homicide_per_hundredk)"
   ]
  },
  {
   "cell_type": "code",
   "execution_count": null,
   "metadata": {
    "collapsed": true
   },
   "outputs": [],
   "source": []
  }
 ],
 "metadata": {
  "kernelspec": {
   "display_name": "Python 3",
   "language": "python",
   "name": "python3"
  },
  "language_info": {
   "codemirror_mode": {
    "name": "ipython",
    "version": 3
   },
   "file_extension": ".py",
   "mimetype": "text/x-python",
   "name": "python",
   "nbconvert_exporter": "python",
   "pygments_lexer": "ipython3",
   "version": "3.4.3"
  }
 },
 "nbformat": 4,
 "nbformat_minor": 0
}
